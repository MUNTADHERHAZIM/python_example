{
 "cells": [
  {
   "cell_type": "code",
   "execution_count": 1,
   "metadata": {},
   "outputs": [
    {
     "ename": "FileNotFoundError",
     "evalue": "[Errno 2] No such file or directory: 'C:\\\\Users\\\\tiage\\\\Downloads\\\\quran-simple-clean_201803\\\\quran-sc.txt'",
     "output_type": "error",
     "traceback": [
      "\u001b[1;31m---------------------------------------------------------------------------\u001b[0m",
      "\u001b[1;31mFileNotFoundError\u001b[0m                         Traceback (most recent call last)",
      "Cell \u001b[1;32mIn[1], line 1\u001b[0m\n\u001b[1;32m----> 1\u001b[0m Quran \u001b[39m=\u001b[39m \u001b[39mopen\u001b[39;49m( \u001b[39mr\u001b[39;49m\u001b[39m\"\u001b[39;49m\u001b[39mC:\u001b[39;49m\u001b[39m\\\u001b[39;49m\u001b[39mUsers\u001b[39;49m\u001b[39m\\\u001b[39;49m\u001b[39mtiage\u001b[39;49m\u001b[39m\\\u001b[39;49m\u001b[39mDownloads\u001b[39;49m\u001b[39m\\\u001b[39;49m\u001b[39mquran-simple-clean_201803\u001b[39;49m\u001b[39m\\\u001b[39;49m\u001b[39mquran-sc.txt\u001b[39;49m\u001b[39m\"\u001b[39;49m , encoding \u001b[39m=\u001b[39;49m \u001b[39m\"\u001b[39;49m\u001b[39mutf-8\u001b[39;49m\u001b[39m\"\u001b[39;49m )\n\u001b[0;32m      2\u001b[0m Quran \u001b[39m=\u001b[39m Quran\u001b[39m.\u001b[39mreadlines()\n",
      "File \u001b[1;32m~\\AppData\\Roaming\\Python\\Python311\\site-packages\\IPython\\core\\interactiveshell.py:282\u001b[0m, in \u001b[0;36m_modified_open\u001b[1;34m(file, *args, **kwargs)\u001b[0m\n\u001b[0;32m    275\u001b[0m \u001b[39mif\u001b[39;00m file \u001b[39min\u001b[39;00m {\u001b[39m0\u001b[39m, \u001b[39m1\u001b[39m, \u001b[39m2\u001b[39m}:\n\u001b[0;32m    276\u001b[0m     \u001b[39mraise\u001b[39;00m \u001b[39mValueError\u001b[39;00m(\n\u001b[0;32m    277\u001b[0m         \u001b[39mf\u001b[39m\u001b[39m\"\u001b[39m\u001b[39mIPython won\u001b[39m\u001b[39m'\u001b[39m\u001b[39mt let you open fd=\u001b[39m\u001b[39m{\u001b[39;00mfile\u001b[39m}\u001b[39;00m\u001b[39m by default \u001b[39m\u001b[39m\"\u001b[39m\n\u001b[0;32m    278\u001b[0m         \u001b[39m\"\u001b[39m\u001b[39mas it is likely to crash IPython. If you know what you are doing, \u001b[39m\u001b[39m\"\u001b[39m\n\u001b[0;32m    279\u001b[0m         \u001b[39m\"\u001b[39m\u001b[39myou can use builtins\u001b[39m\u001b[39m'\u001b[39m\u001b[39m open.\u001b[39m\u001b[39m\"\u001b[39m\n\u001b[0;32m    280\u001b[0m     )\n\u001b[1;32m--> 282\u001b[0m \u001b[39mreturn\u001b[39;00m io_open(file, \u001b[39m*\u001b[39;49margs, \u001b[39m*\u001b[39;49m\u001b[39m*\u001b[39;49mkwargs)\n",
      "\u001b[1;31mFileNotFoundError\u001b[0m: [Errno 2] No such file or directory: 'C:\\\\Users\\\\tiage\\\\Downloads\\\\quran-simple-clean_201803\\\\quran-sc.txt'"
     ]
    }
   ],
   "source": [
    "Quran = open( r\"C:\\Users\\tiage\\Downloads\\quran-simple-clean_201803\\quran-sc.txt\" , encoding = \"utf-8\" )\n",
    "Quran = Quran.readlines()"
   ]
  },
  {
   "cell_type": "markdown",
   "metadata": {},
   "source": []
  },
  {
   "cell_type": "code",
   "execution_count": 21,
   "metadata": {},
   "outputs": [
    {
     "data": {
      "text/plain": [
       "['بسم الله الرحمن الرحيم\\n',\n",
       " 'الحمد لله رب العالمين\\n',\n",
       " 'الرحمن الرحيم\\n',\n",
       " 'مالك يوم الدين\\n',\n",
       " 'إياك نعبد وإياك نستعين\\n',\n",
       " 'اهدنا الصراط المستقيم\\n',\n",
       " 'صراط الذين أنعمت عليهم غير المغضوب عليهم ولا الضالين\\n']"
      ]
     },
     "execution_count": 21,
     "metadata": {},
     "output_type": "execute_result"
    }
   ],
   "source": [
    "Quran[0:7]"
   ]
  },
  {
   "cell_type": "code",
   "execution_count": 22,
   "metadata": {},
   "outputs": [],
   "source": [
    "Quran = list(filter(None,[item.strip('\\n') for item in Quran]))"
   ]
  },
  {
   "cell_type": "code",
   "execution_count": 23,
   "metadata": {},
   "outputs": [
    {
     "data": {
      "text/plain": [
       "['بسم الله الرحمن الرحيم',\n",
       " 'الحمد لله رب العالمين',\n",
       " 'الرحمن الرحيم',\n",
       " 'مالك يوم الدين',\n",
       " 'إياك نعبد وإياك نستعين',\n",
       " 'اهدنا الصراط المستقيم',\n",
       " 'صراط الذين أنعمت عليهم غير المغضوب عليهم ولا الضالين']"
      ]
     },
     "execution_count": 23,
     "metadata": {},
     "output_type": "execute_result"
    }
   ],
   "source": [
    "Quran[0:7]"
   ]
  },
  {
   "cell_type": "code",
   "execution_count": 24,
   "metadata": {},
   "outputs": [],
   "source": [
    "def f(m,n):\n",
    "    txt = Quran[m:n]\n",
    "    for i in range(len(txt)):\n",
    "        print(txt[i])"
   ]
  },
  {
   "cell_type": "code",
   "execution_count": 25,
   "metadata": {},
   "outputs": [
    {
     "name": "stdout",
     "output_type": "stream",
     "text": [
      "بسم الله الرحمن الرحيم\n",
      "الحمد لله رب العالمين\n",
      "الرحمن الرحيم\n",
      "مالك يوم الدين\n",
      "إياك نعبد وإياك نستعين\n",
      "اهدنا الصراط المستقيم\n",
      "صراط الذين أنعمت عليهم غير المغضوب عليهم ولا الضالين\n"
     ]
    }
   ],
   "source": [
    "f(0,7)\n"
   ]
  },
  {
   "cell_type": "code",
   "execution_count": 29,
   "metadata": {},
   "outputs": [],
   "source": [
    "Quran = open( r\"C:\\Users\\tiage\\Downloads\\quran-simple-clean_201803\\quran-sc.txt\" , encoding = \"utf-8\" )\n",
    "data = Quran.read()\n",
    "words = data.split() \n",
    "from collections import Counter\n",
    "\n",
    "# Counter(words).most_common(10)\n",
    "dict = Counter(words)\n",
    "\n",
    "\n"
   ]
  },
  {
   "cell_type": "code",
   "execution_count": 55,
   "metadata": {},
   "outputs": [
    {
     "data": {
      "text/plain": [
       "0"
      ]
     },
     "execution_count": 55,
     "metadata": {},
     "output_type": "execute_result"
    }
   ],
   "source": [
    "dict[\"\"]"
   ]
  },
  {
   "cell_type": "code",
   "execution_count": 57,
   "metadata": {},
   "outputs": [
    {
     "data": {
      "text/plain": [
       "[('من', 2763),\n",
       " ('الله', 2265),\n",
       " ('في', 1185),\n",
       " ('ما', 1010),\n",
       " ('إن', 966),\n",
       " ('لا', 812),\n",
       " ('الذين', 810),\n",
       " ('على', 670),\n",
       " ('إلا', 664),\n",
       " ('ولا', 658),\n",
       " ('وما', 646),\n",
       " ('أن', 638),\n",
       " ('قال', 416),\n",
       " ('إلى', 405),\n",
       " ('لهم', 373),\n",
       " ('يا', 350),\n",
       " ('ومن', 342),\n",
       " ('ثم', 340),\n",
       " ('لكم', 337),\n",
       " ('به', 327),\n",
       " ('كان', 323),\n",
       " ('بما', 296),\n",
       " ('قل', 294),\n",
       " ('الأرض', 287),\n",
       " ('ذلك', 280),\n",
       " ('أو', 280),\n",
       " ('له', 275),\n",
       " ('الذي', 268),\n",
       " ('هو', 265),\n",
       " ('آمنوا', 263),\n",
       " ('هم', 261),\n",
       " ('وإن', 254),\n",
       " ('قالوا', 250),\n",
       " ('كل', 245),\n",
       " ('فيها', 241),\n",
       " ('والله', 240),\n",
       " ('كانوا', 229),\n",
       " ('عن', 223),\n",
       " ('إذا', 221),\n",
       " ('ربك', 220),\n",
       " ('يوم', 217),\n",
       " ('عليهم', 214),\n",
       " ('شيء', 190),\n",
       " ('هذا', 190),\n",
       " ('كفروا', 189),\n",
       " ('كنتم', 188),\n",
       " ('الناس', 182),\n",
       " ('السماوات', 182),\n",
       " ('لم', 178),\n",
       " ('وهو', 171)]"
      ]
     },
     "execution_count": 57,
     "metadata": {},
     "output_type": "execute_result"
    }
   ],
   "source": [
    "Counter(words).most_common(50)"
   ]
  },
  {
   "cell_type": "code",
   "execution_count": 50,
   "metadata": {},
   "outputs": [
    {
     "data": {
      "text/plain": [
       "274"
      ]
     },
     "execution_count": 50,
     "metadata": {},
     "output_type": "execute_result"
    }
   ],
   "source": [
    "\n"
   ]
  },
  {
   "cell_type": "code",
   "execution_count": null,
   "metadata": {},
   "outputs": [],
   "source": []
  }
 ],
 "metadata": {
  "kernelspec": {
   "display_name": "Python 3",
   "language": "python",
   "name": "python3"
  },
  "language_info": {
   "codemirror_mode": {
    "name": "ipython",
    "version": 3
   },
   "file_extension": ".py",
   "mimetype": "text/x-python",
   "name": "python",
   "nbconvert_exporter": "python",
   "pygments_lexer": "ipython3",
   "version": "3.11.1"
  },
  "orig_nbformat": 4,
  "vscode": {
   "interpreter": {
    "hash": "20e1e7825304eae1046f80254f9c468536c9aba797572e5a67973c4f2dace95b"
   }
  }
 },
 "nbformat": 4,
 "nbformat_minor": 2
}
